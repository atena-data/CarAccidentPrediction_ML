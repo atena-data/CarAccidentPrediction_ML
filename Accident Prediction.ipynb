{
    "cells": [
        {
            "cell_type": "markdown",
            "metadata": {},
            "source": "# IBM Machin Learning Capstone Project"
        },
        {
            "cell_type": "markdown",
            "metadata": {},
            "source": "### This Notebook is used to complete the *Capstone Project*. Project includes data evaluation, model building and predictions."
        },
        {
            "cell_type": "code",
            "execution_count": 5,
            "metadata": {},
            "outputs": [],
            "source": "import pandas as pd\nimport numpy as np"
        },
        {
            "cell_type": "code",
            "execution_count": 6,
            "metadata": {},
            "outputs": [
                {
                    "name": "stdout",
                    "output_type": "stream",
                    "text": "Hello Capstone Project Course!\n"
                }
            ],
            "source": "print('Hello Capstone Project Course!')"
        },
        {
            "cell_type": "markdown",
            "metadata": {},
            "source": "# Introduction/Business Problem Statement"
        },
        {
            "cell_type": "markdown",
            "metadata": {},
            "source": "### In this project, a public data set is used to demonstrate Data Analysis and Machine Learning skills obtained in the IBM Data Science Program. Coursera has provided the data set which includes records of accidents and their severity level. The objective of this project is to: understand the data, define relevent attributes that cause the accisent and build a predictive model. This analysis will help in potential driving hazard identification and can help drivers choose the best rout based on weather and road condition."
        },
        {
            "cell_type": "markdown",
            "metadata": {},
            "source": "# Data"
        },
        {
            "cell_type": "code",
            "execution_count": null,
            "metadata": {},
            "outputs": [],
            "source": "### The collision data set provided by Coursera includes all collision reports in seattle since 2004. The data set has 194673 records and 393 attribute, each record is labeld by the accident's severity level. "
        }
    ],
    "metadata": {
        "kernelspec": {
            "display_name": "Python 3.6",
            "language": "python",
            "name": "python3"
        },
        "language_info": {
            "codemirror_mode": {
                "name": "ipython",
                "version": 3
            },
            "file_extension": ".py",
            "mimetype": "text/x-python",
            "name": "python",
            "nbconvert_exporter": "python",
            "pygments_lexer": "ipython3",
            "version": "3.6.9"
        }
    },
    "nbformat": 4,
    "nbformat_minor": 1
}